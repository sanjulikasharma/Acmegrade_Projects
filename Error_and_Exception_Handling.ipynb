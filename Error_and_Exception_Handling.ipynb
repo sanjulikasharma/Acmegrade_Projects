{
  "nbformat": 4,
  "nbformat_minor": 0,
  "metadata": {
    "colab": {
      "provenance": [],
      "authorship_tag": "ABX9TyNCbRFt7ece0W74KYIsGyKl",
      "include_colab_link": true
    },
    "kernelspec": {
      "name": "python3",
      "display_name": "Python 3"
    },
    "language_info": {
      "name": "python"
    }
  },
  "cells": [
    {
      "cell_type": "markdown",
      "metadata": {
        "id": "view-in-github",
        "colab_type": "text"
      },
      "source": [
        "<a href=\"https://colab.research.google.com/github/sanjulikasharma/Acmegrade_Projects/blob/main/Error_and_Exception_Handling.ipynb\" target=\"_parent\"><img src=\"https://colab.research.google.com/assets/colab-badge.svg\" alt=\"Open In Colab\"/></a>"
      ]
    },
    {
      "cell_type": "code",
      "execution_count": 1,
      "metadata": {
        "id": "HsL98yjf4MPV"
      },
      "outputs": [],
      "source": [
        "sum = lambda x,y : x+y"
      ]
    },
    {
      "cell_type": "code",
      "source": [
        "sum(1, 3)"
      ],
      "metadata": {
        "colab": {
          "base_uri": "https://localhost:8080/"
        },
        "id": "waAwCdr05HLF",
        "outputId": "fd48f22f-3b3e-4fb2-9b55-b51facc5e2a0"
      },
      "execution_count": 2,
      "outputs": [
        {
          "output_type": "execute_result",
          "data": {
            "text/plain": [
              "4"
            ]
          },
          "metadata": {},
          "execution_count": 2
        }
      ]
    },
    {
      "cell_type": "code",
      "source": [
        "try:\n",
        "  # Want to attempt the code\n",
        "  # May have an error\n",
        "  result = 10+'10'\n",
        "except:\n",
        "  print(\"Hey it looks like you aren't adding correctly!\")\n",
        "else:\n",
        "  print(\"add went well!\")\n",
        "  print(result)"
      ],
      "metadata": {
        "colab": {
          "base_uri": "https://localhost:8080/"
        },
        "id": "w8OqP1Tx5HTe",
        "outputId": "a407ebbd-360f-44e4-98d7-24262b8a7614"
      },
      "execution_count": 4,
      "outputs": [
        {
          "output_type": "stream",
          "name": "stdout",
          "text": [
            "Hey it looks like you aren't adding correctly!\n"
          ]
        }
      ]
    },
    {
      "cell_type": "code",
      "source": [
        "try:\n",
        "  f = open('testfile', 'r')\n",
        "  f.write('Write a test line')\n",
        "except TypeError:\n",
        "  print(\"there was a type error\")\n",
        "except OSError:\n",
        "  print('hey you have an Os Error')\n",
        "finally:\n",
        "  print('I always run ')"
      ],
      "metadata": {
        "colab": {
          "base_uri": "https://localhost:8080/"
        },
        "id": "vaHNvLTc6CSn",
        "outputId": "9347badb-6058-4eaa-a029-a6ead2f2990c"
      },
      "execution_count": 7,
      "outputs": [
        {
          "output_type": "stream",
          "name": "stdout",
          "text": [
            "hey you have an Os Error\n",
            "I always run \n"
          ]
        }
      ]
    },
    {
      "cell_type": "code",
      "source": [
        "def ask_for_int():\n",
        "  while True:\n",
        "    try:\n",
        "      result = int(input(\"number:\"))\n",
        "    except:\n",
        "      print(\"no numbet\")\n",
        "      continue\n",
        "    else:\n",
        "      print(\"yes, thank you\")\n",
        "      break\n",
        "\n",
        "    finally:\n",
        "      print(\"End of try/ except/ finally \")"
      ],
      "metadata": {
        "id": "NGCC8-JC66wn"
      },
      "execution_count": 13,
      "outputs": []
    },
    {
      "cell_type": "markdown",
      "source": [
        "# Errors and Exception Homework"
      ],
      "metadata": {
        "id": "Np77xJOG95Pe"
      }
    },
    {
      "cell_type": "markdown",
      "source": [
        "## Problem 1"
      ],
      "metadata": {
        "id": "dL7TACU8-ACA"
      }
    },
    {
      "cell_type": "markdown",
      "source": [
        "Handle the exception thrown by the code below by using try and except blocks.\n",
        "\n"
      ],
      "metadata": {
        "id": "rhwiSu6o_ose"
      }
    },
    {
      "cell_type": "code",
      "source": [
        "for i in ['a', 'b', 'c']:\n",
        "  print(i**2)"
      ],
      "metadata": {
        "colab": {
          "base_uri": "https://localhost:8080/",
          "height": 158
        },
        "id": "GgecGOu9910t",
        "outputId": "4c14e634-8620-4473-9edd-8f2b8dcc682d"
      },
      "execution_count": 1,
      "outputs": [
        {
          "output_type": "error",
          "ename": "TypeError",
          "evalue": "unsupported operand type(s) for ** or pow(): 'str' and 'int'",
          "traceback": [
            "\u001b[0;31m---------------------------------------------------------------------------\u001b[0m",
            "\u001b[0;31mTypeError\u001b[0m                                 Traceback (most recent call last)",
            "\u001b[0;32m<ipython-input-1-c5705b75e106>\u001b[0m in \u001b[0;36m<cell line: 0>\u001b[0;34m()\u001b[0m\n\u001b[1;32m      1\u001b[0m \u001b[0;32mfor\u001b[0m \u001b[0mi\u001b[0m \u001b[0;32min\u001b[0m \u001b[0;34m[\u001b[0m\u001b[0;34m'a'\u001b[0m\u001b[0;34m,\u001b[0m \u001b[0;34m'b'\u001b[0m\u001b[0;34m,\u001b[0m \u001b[0;34m'c'\u001b[0m\u001b[0;34m]\u001b[0m\u001b[0;34m:\u001b[0m\u001b[0;34m\u001b[0m\u001b[0;34m\u001b[0m\u001b[0m\n\u001b[0;32m----> 2\u001b[0;31m   \u001b[0mprint\u001b[0m\u001b[0;34m(\u001b[0m\u001b[0mi\u001b[0m\u001b[0;34m**\u001b[0m\u001b[0;36m2\u001b[0m\u001b[0;34m)\u001b[0m\u001b[0;34m\u001b[0m\u001b[0;34m\u001b[0m\u001b[0m\n\u001b[0m",
            "\u001b[0;31mTypeError\u001b[0m: unsupported operand type(s) for ** or pow(): 'str' and 'int'"
          ]
        }
      ]
    },
    {
      "cell_type": "code",
      "source": [
        "try:\n",
        "  for i in ['a', 'b', 'c']:\n",
        "    print(i**2)\n",
        "except TypeError:\n",
        "  print(\"There is a type error, include integers in your list\")\n",
        "else:\n",
        "  print('You have your answers')"
      ],
      "metadata": {
        "colab": {
          "base_uri": "https://localhost:8080/"
        },
        "id": "M1g-EZcL916E",
        "outputId": "b83a5589-42ed-4b30-e9a9-a39b76171527"
      },
      "execution_count": 4,
      "outputs": [
        {
          "output_type": "stream",
          "name": "stdout",
          "text": [
            "There is a type error, include integers in your list\n"
          ]
        }
      ]
    },
    {
      "cell_type": "markdown",
      "source": [
        "## Problem 2"
      ],
      "metadata": {
        "id": "C5cn7vxM-4tK"
      }
    },
    {
      "cell_type": "markdown",
      "source": [
        "Handle the exception thrown by the code below by using try and except blocks. Then use a finally block to print 'All Done.'\n",
        "\n"
      ],
      "metadata": {
        "id": "xdjQ88UI_qm-"
      }
    },
    {
      "cell_type": "code",
      "source": [
        "\n",
        "x = 5\n",
        "y = 0\n",
        "\n",
        "z = x/y\n"
      ],
      "metadata": {
        "colab": {
          "base_uri": "https://localhost:8080/",
          "height": 176
        },
        "id": "iYOj_vc8919g",
        "outputId": "ccfb56ef-b9e2-4aa1-d24b-4dfd89c12575"
      },
      "execution_count": 5,
      "outputs": [
        {
          "output_type": "error",
          "ename": "ZeroDivisionError",
          "evalue": "division by zero",
          "traceback": [
            "\u001b[0;31m---------------------------------------------------------------------------\u001b[0m",
            "\u001b[0;31mZeroDivisionError\u001b[0m                         Traceback (most recent call last)",
            "\u001b[0;32m<ipython-input-5-6f985c4c80dd>\u001b[0m in \u001b[0;36m<cell line: 0>\u001b[0;34m()\u001b[0m\n\u001b[1;32m      2\u001b[0m \u001b[0my\u001b[0m \u001b[0;34m=\u001b[0m \u001b[0;36m0\u001b[0m\u001b[0;34m\u001b[0m\u001b[0;34m\u001b[0m\u001b[0m\n\u001b[1;32m      3\u001b[0m \u001b[0;34m\u001b[0m\u001b[0m\n\u001b[0;32m----> 4\u001b[0;31m \u001b[0mz\u001b[0m \u001b[0;34m=\u001b[0m \u001b[0mx\u001b[0m\u001b[0;34m/\u001b[0m\u001b[0my\u001b[0m\u001b[0;34m\u001b[0m\u001b[0;34m\u001b[0m\u001b[0m\n\u001b[0m",
            "\u001b[0;31mZeroDivisionError\u001b[0m: division by zero"
          ]
        }
      ]
    },
    {
      "cell_type": "code",
      "source": [
        "try:\n",
        "  x= 5\n",
        "  y = 0\n",
        "  z = x/y\n",
        "except ZeroDivisionError:\n",
        "  print('A number can not be divided by Zero')\n",
        "else:\n",
        "  print('The divided number is here')\n",
        "finally:\n",
        "  print('I hope it helps!')"
      ],
      "metadata": {
        "colab": {
          "base_uri": "https://localhost:8080/"
        },
        "id": "jAGOHrW292Dl",
        "outputId": "135f9836-0be3-492b-92d2-a4a2aced1c53"
      },
      "execution_count": 6,
      "outputs": [
        {
          "output_type": "stream",
          "name": "stdout",
          "text": [
            "A number can not be divided by Zero\n",
            "I hope it helps!\n"
          ]
        }
      ]
    },
    {
      "cell_type": "markdown",
      "source": [
        "## Problem 3"
      ],
      "metadata": {
        "id": "hn_CLSG7_Zg5"
      }
    },
    {
      "cell_type": "markdown",
      "source": [
        "Write a function that asks for an integer and prints the square of it. Use a while loop with a try, except, else block to account for incorrect inputs.\n",
        "\n"
      ],
      "metadata": {
        "id": "AXwQVzhF_tq6"
      }
    },
    {
      "cell_type": "code",
      "source": [],
      "metadata": {
        "id": "he4NcJfbCJSI"
      },
      "execution_count": null,
      "outputs": []
    },
    {
      "cell_type": "code",
      "source": [
        "def ask():\n",
        "  while True:\n",
        "    try:\n",
        "      n = int(input('enter a number : '))\n",
        "      sq = n**2\n",
        "      print('Thank you, the square number is: ', sq)\n",
        "\n",
        "    except ValueError:\n",
        "      print('There is a value error input an integer')\n",
        "      continue\n",
        "    else:\n",
        "      print(\"Hope it helps!\")\n",
        "      break\n"
      ],
      "metadata": {
        "id": "FA8bo8q4_YAx"
      },
      "execution_count": 22,
      "outputs": []
    },
    {
      "cell_type": "code",
      "source": [
        "ask()i"
      ],
      "metadata": {
        "colab": {
          "base_uri": "https://localhost:8080/"
        },
        "id": "F2LkA9R-AKoV",
        "outputId": "3e0b77d6-73a3-48c5-def4-512e7fa617bb"
      },
      "execution_count": 24,
      "outputs": [
        {
          "output_type": "stream",
          "name": "stdout",
          "text": [
            "enter a number : i\n",
            "There is a value error input an integer\n",
            "enter a number : i\n",
            "There is a value error input an integer\n",
            "enter a number : 9\n",
            "Thank you, the square number is:  81\n",
            "Hope it helps!\n"
          ]
        }
      ]
    }
  ]
}